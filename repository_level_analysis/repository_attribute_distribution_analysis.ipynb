{
 "cells": [
  {
   "cell_type": "markdown",
   "id": "849fd744",
   "metadata": {},
   "source": [
    "# <center> What is a Feature ? <br><br> Analysing the Distribution of Various Repository Attributes for 'Feature Label Repositories' ?</center>"
   ]
  },
  {
   "cell_type": "markdown",
   "id": "b4c837ae",
   "metadata": {},
   "source": [
    "### Importing Required Libraries"
   ]
  },
  {
   "cell_type": "code",
   "execution_count": 1,
   "id": "a223dcd9",
   "metadata": {},
   "outputs": [],
   "source": [
    "import pandas as pd\n",
    "import ast\n",
    "import matplotlib.pyplot as plt\n",
    "import numpy as np\n",
    "import seaborn as sns"
   ]
  },
  {
   "cell_type": "markdown",
   "id": "4a3f6177",
   "metadata": {},
   "source": [
    "### Importing Appropriate DataSet"
   ]
  },
  {
   "cell_type": "code",
   "execution_count": 2,
   "id": "05c27225",
   "metadata": {
    "scrolled": false
   },
   "outputs": [
    {
     "name": "stdout",
     "output_type": "stream",
     "text": [
      "Full Shape: (7899, 34)\n"
     ]
    },
    {
     "data": {
      "text/html": [
       "<div>\n",
       "<style scoped>\n",
       "    .dataframe tbody tr th:only-of-type {\n",
       "        vertical-align: middle;\n",
       "    }\n",
       "\n",
       "    .dataframe tbody tr th {\n",
       "        vertical-align: top;\n",
       "    }\n",
       "\n",
       "    .dataframe thead th {\n",
       "        text-align: right;\n",
       "    }\n",
       "</style>\n",
       "<table border=\"1\" class=\"dataframe\">\n",
       "  <thead>\n",
       "    <tr style=\"text-align: right;\">\n",
       "      <th></th>\n",
       "      <th>id</th>\n",
       "      <th>name</th>\n",
       "      <th>isFork</th>\n",
       "      <th>commits</th>\n",
       "      <th>branches</th>\n",
       "      <th>defaultBranch</th>\n",
       "      <th>releases</th>\n",
       "      <th>contributors</th>\n",
       "      <th>license</th>\n",
       "      <th>watchers</th>\n",
       "      <th>stargazers</th>\n",
       "      <th>forks</th>\n",
       "      <th>size</th>\n",
       "      <th>createdAt</th>\n",
       "      <th>pushedAt</th>\n",
       "      <th>updatedAt</th>\n",
       "      <th>homepage</th>\n",
       "      <th>mainLanguage</th>\n",
       "      <th>totalIssues</th>\n",
       "      <th>openIssues</th>\n",
       "      <th>totalPullRequests</th>\n",
       "      <th>openPullRequests</th>\n",
       "      <th>blankLines</th>\n",
       "      <th>codeLines</th>\n",
       "      <th>commentLines</th>\n",
       "      <th>metrics</th>\n",
       "      <th>lastCommit</th>\n",
       "      <th>lastCommitSHA</th>\n",
       "      <th>hasWiki</th>\n",
       "      <th>isArchived</th>\n",
       "      <th>languages</th>\n",
       "      <th>labels</th>\n",
       "      <th>topics</th>\n",
       "      <th>feature_labels</th>\n",
       "    </tr>\n",
       "  </thead>\n",
       "  <tbody>\n",
       "    <tr>\n",
       "      <th>0</th>\n",
       "      <td>3258141</td>\n",
       "      <td>alibaba/vlayout</td>\n",
       "      <td>False</td>\n",
       "      <td>366.0</td>\n",
       "      <td>12.0</td>\n",
       "      <td>master</td>\n",
       "      <td>34.0</td>\n",
       "      <td>17.0</td>\n",
       "      <td>MIT License</td>\n",
       "      <td>341.0</td>\n",
       "      <td>10795</td>\n",
       "      <td>1818</td>\n",
       "      <td>1726</td>\n",
       "      <td>2017-02-27 08:11:47</td>\n",
       "      <td>2021-07-14 04:40:34</td>\n",
       "      <td>2021-07-14 04:40:58</td>\n",
       "      <td>http://tangram.pingguohe.net/</td>\n",
       "      <td>Java</td>\n",
       "      <td>503.0</td>\n",
       "      <td>190.0</td>\n",
       "      <td>23.0</td>\n",
       "      <td>5.0</td>\n",
       "      <td>3672</td>\n",
       "      <td>14074</td>\n",
       "      <td>4262</td>\n",
       "      <td>[{'blankLines': 3101, 'language': 'Java', 'com...</td>\n",
       "      <td>2021-07-14T04:40:34</td>\n",
       "      <td>00d6be0a1fa89c2f54ca923d2ea2e34d279d289e</td>\n",
       "      <td>NaN</td>\n",
       "      <td>NaN</td>\n",
       "      <td>{'Java': 669506}</td>\n",
       "      <td>[bug, duplicate, enhancement, feature, help wa...</td>\n",
       "      <td>[]</td>\n",
       "      <td>[feature]</td>\n",
       "    </tr>\n",
       "    <tr>\n",
       "      <th>1</th>\n",
       "      <td>3258277</td>\n",
       "      <td>goxr3plus/java-stream-player</td>\n",
       "      <td>False</td>\n",
       "      <td>181.0</td>\n",
       "      <td>4.0</td>\n",
       "      <td>master</td>\n",
       "      <td>11.0</td>\n",
       "      <td>6.0</td>\n",
       "      <td>GNU General Public License v3.0</td>\n",
       "      <td>9.0</td>\n",
       "      <td>123</td>\n",
       "      <td>29</td>\n",
       "      <td>5664</td>\n",
       "      <td>2017-10-23 02:33:38</td>\n",
       "      <td>2023-02-07 12:28:27</td>\n",
       "      <td>2023-01-24 04:00:42</td>\n",
       "      <td>NaN</td>\n",
       "      <td>Java</td>\n",
       "      <td>43.0</td>\n",
       "      <td>23.0</td>\n",
       "      <td>34.0</td>\n",
       "      <td>7.0</td>\n",
       "      <td>922</td>\n",
       "      <td>2533</td>\n",
       "      <td>1524</td>\n",
       "      <td>[{'blankLines': 1, 'language': 'YAML', 'commen...</td>\n",
       "      <td>2023-02-07T12:28:27</td>\n",
       "      <td>09ddefe497a894dc9462d330792a9f09f69e2c77</td>\n",
       "      <td>NaN</td>\n",
       "      <td>NaN</td>\n",
       "      <td>{'Java': 130948}</td>\n",
       "      <td>[bug, dependencies, duplicate, enhancement, fe...</td>\n",
       "      <td>[]</td>\n",
       "      <td>[feature request]</td>\n",
       "    </tr>\n",
       "  </tbody>\n",
       "</table>\n",
       "</div>"
      ],
      "text/plain": [
       "        id                          name  isFork  commits  branches  \\\n",
       "0  3258141               alibaba/vlayout   False    366.0      12.0   \n",
       "1  3258277  goxr3plus/java-stream-player   False    181.0       4.0   \n",
       "\n",
       "  defaultBranch  releases  contributors                          license  \\\n",
       "0        master      34.0          17.0                      MIT License   \n",
       "1        master      11.0           6.0  GNU General Public License v3.0   \n",
       "\n",
       "   watchers  stargazers  forks  size            createdAt  \\\n",
       "0     341.0       10795   1818  1726  2017-02-27 08:11:47   \n",
       "1       9.0         123     29  5664  2017-10-23 02:33:38   \n",
       "\n",
       "              pushedAt            updatedAt                       homepage  \\\n",
       "0  2021-07-14 04:40:34  2021-07-14 04:40:58  http://tangram.pingguohe.net/   \n",
       "1  2023-02-07 12:28:27  2023-01-24 04:00:42                            NaN   \n",
       "\n",
       "  mainLanguage  totalIssues  openIssues  totalPullRequests  openPullRequests  \\\n",
       "0         Java        503.0       190.0               23.0               5.0   \n",
       "1         Java         43.0        23.0               34.0               7.0   \n",
       "\n",
       "   blankLines  codeLines  commentLines  \\\n",
       "0        3672      14074          4262   \n",
       "1         922       2533          1524   \n",
       "\n",
       "                                             metrics           lastCommit  \\\n",
       "0  [{'blankLines': 3101, 'language': 'Java', 'com...  2021-07-14T04:40:34   \n",
       "1  [{'blankLines': 1, 'language': 'YAML', 'commen...  2023-02-07T12:28:27   \n",
       "\n",
       "                              lastCommitSHA  hasWiki  isArchived  \\\n",
       "0  00d6be0a1fa89c2f54ca923d2ea2e34d279d289e      NaN         NaN   \n",
       "1  09ddefe497a894dc9462d330792a9f09f69e2c77      NaN         NaN   \n",
       "\n",
       "          languages                                             labels topics  \\\n",
       "0  {'Java': 669506}  [bug, duplicate, enhancement, feature, help wa...     []   \n",
       "1  {'Java': 130948}  [bug, dependencies, duplicate, enhancement, fe...     []   \n",
       "\n",
       "      feature_labels  \n",
       "0          [feature]  \n",
       "1  [feature request]  "
      ]
     },
     "execution_count": 2,
     "metadata": {},
     "output_type": "execute_result"
    }
   ],
   "source": [
    "pd.set_option('display.max_columns', None)\n",
    "pd.set_option('display.max_colwidth', None)\n",
    "pd.set_option('display.max_rows', None)\n",
    "\n",
    "#pd.reset_option('max_columns')\n",
    "pd.reset_option('max_colwidth')\n",
    "pd.reset_option('max_rows')\n",
    "\n",
    "df = pd.read_csv('../../dataset/repositories/filtered/filtered_feature_label_dataset.csv')\n",
    "\n",
    "# Converting strings to actual python lists\n",
    "df['labels'] = df['labels'].apply(ast.literal_eval)\n",
    "df['feature_labels'] = df['feature_labels'].apply(ast.literal_eval)\n",
    "df['topics'] = df['topics'].apply(ast.literal_eval)\n",
    "\n",
    "print('Full Shape:', df.shape)\n",
    "df.head(2)"
   ]
  },
  {
   "cell_type": "code",
   "execution_count": 3,
   "id": "2eb5b453",
   "metadata": {
    "scrolled": true
   },
   "outputs": [
    {
     "data": {
      "text/html": [
       "<div>\n",
       "<style scoped>\n",
       "    .dataframe tbody tr th:only-of-type {\n",
       "        vertical-align: middle;\n",
       "    }\n",
       "\n",
       "    .dataframe tbody tr th {\n",
       "        vertical-align: top;\n",
       "    }\n",
       "\n",
       "    .dataframe thead th {\n",
       "        text-align: right;\n",
       "    }\n",
       "</style>\n",
       "<table border=\"1\" class=\"dataframe\">\n",
       "  <thead>\n",
       "    <tr style=\"text-align: right;\">\n",
       "      <th></th>\n",
       "      <th>id</th>\n",
       "      <th>commits</th>\n",
       "      <th>branches</th>\n",
       "      <th>releases</th>\n",
       "      <th>contributors</th>\n",
       "      <th>watchers</th>\n",
       "      <th>stargazers</th>\n",
       "      <th>forks</th>\n",
       "      <th>size</th>\n",
       "      <th>totalIssues</th>\n",
       "      <th>openIssues</th>\n",
       "      <th>totalPullRequests</th>\n",
       "      <th>openPullRequests</th>\n",
       "      <th>blankLines</th>\n",
       "      <th>codeLines</th>\n",
       "      <th>commentLines</th>\n",
       "      <th>hasWiki</th>\n",
       "      <th>isArchived</th>\n",
       "    </tr>\n",
       "  </thead>\n",
       "  <tbody>\n",
       "    <tr>\n",
       "      <th>count</th>\n",
       "      <td>7.899000e+03</td>\n",
       "      <td>7899.000000</td>\n",
       "      <td>7899.000000</td>\n",
       "      <td>7899.000000</td>\n",
       "      <td>7899.000000</td>\n",
       "      <td>7899.000000</td>\n",
       "      <td>7899.000000</td>\n",
       "      <td>7899.000000</td>\n",
       "      <td>7.899000e+03</td>\n",
       "      <td>7899.000000</td>\n",
       "      <td>7899.000000</td>\n",
       "      <td>7899.000000</td>\n",
       "      <td>7899.000000</td>\n",
       "      <td>7.899000e+03</td>\n",
       "      <td>7.899000e+03</td>\n",
       "      <td>7.899000e+03</td>\n",
       "      <td>0.0</td>\n",
       "      <td>0.0</td>\n",
       "    </tr>\n",
       "    <tr>\n",
       "      <th>mean</th>\n",
       "      <td>2.663624e+07</td>\n",
       "      <td>2245.139132</td>\n",
       "      <td>34.122800</td>\n",
       "      <td>48.706419</td>\n",
       "      <td>50.498671</td>\n",
       "      <td>50.840739</td>\n",
       "      <td>2071.021648</td>\n",
       "      <td>321.976833</td>\n",
       "      <td>7.565628e+04</td>\n",
       "      <td>535.415875</td>\n",
       "      <td>94.016838</td>\n",
       "      <td>751.892645</td>\n",
       "      <td>12.973414</td>\n",
       "      <td>2.065771e+04</td>\n",
       "      <td>1.883669e+05</td>\n",
       "      <td>2.778270e+04</td>\n",
       "      <td>NaN</td>\n",
       "      <td>NaN</td>\n",
       "    </tr>\n",
       "    <tr>\n",
       "      <th>std</th>\n",
       "      <td>3.019270e+07</td>\n",
       "      <td>7352.986689</td>\n",
       "      <td>108.422671</td>\n",
       "      <td>101.970801</td>\n",
       "      <td>74.809144</td>\n",
       "      <td>158.995565</td>\n",
       "      <td>6802.241001</td>\n",
       "      <td>1229.265646</td>\n",
       "      <td>3.085476e+05</td>\n",
       "      <td>1575.902162</td>\n",
       "      <td>393.775727</td>\n",
       "      <td>1732.294533</td>\n",
       "      <td>34.804647</td>\n",
       "      <td>8.282623e+04</td>\n",
       "      <td>7.748053e+05</td>\n",
       "      <td>1.596777e+05</td>\n",
       "      <td>NaN</td>\n",
       "      <td>NaN</td>\n",
       "    </tr>\n",
       "    <tr>\n",
       "      <th>min</th>\n",
       "      <td>3.258141e+06</td>\n",
       "      <td>101.000000</td>\n",
       "      <td>1.000000</td>\n",
       "      <td>0.000000</td>\n",
       "      <td>6.000000</td>\n",
       "      <td>0.000000</td>\n",
       "      <td>101.000000</td>\n",
       "      <td>0.000000</td>\n",
       "      <td>8.100000e+01</td>\n",
       "      <td>1.000000</td>\n",
       "      <td>0.000000</td>\n",
       "      <td>0.000000</td>\n",
       "      <td>0.000000</td>\n",
       "      <td>0.000000e+00</td>\n",
       "      <td>1.000000e+00</td>\n",
       "      <td>0.000000e+00</td>\n",
       "      <td>NaN</td>\n",
       "      <td>NaN</td>\n",
       "    </tr>\n",
       "    <tr>\n",
       "      <th>25%</th>\n",
       "      <td>3.988670e+06</td>\n",
       "      <td>385.000000</td>\n",
       "      <td>4.000000</td>\n",
       "      <td>5.000000</td>\n",
       "      <td>13.000000</td>\n",
       "      <td>12.000000</td>\n",
       "      <td>214.000000</td>\n",
       "      <td>46.000000</td>\n",
       "      <td>3.267000e+03</td>\n",
       "      <td>82.000000</td>\n",
       "      <td>11.000000</td>\n",
       "      <td>87.500000</td>\n",
       "      <td>1.000000</td>\n",
       "      <td>1.304000e+03</td>\n",
       "      <td>1.074450e+04</td>\n",
       "      <td>5.675000e+02</td>\n",
       "      <td>NaN</td>\n",
       "      <td>NaN</td>\n",
       "    </tr>\n",
       "    <tr>\n",
       "      <th>50%</th>\n",
       "      <td>7.558349e+06</td>\n",
       "      <td>826.000000</td>\n",
       "      <td>10.000000</td>\n",
       "      <td>21.000000</td>\n",
       "      <td>24.000000</td>\n",
       "      <td>23.000000</td>\n",
       "      <td>496.000000</td>\n",
       "      <td>97.000000</td>\n",
       "      <td>1.309300e+04</td>\n",
       "      <td>187.000000</td>\n",
       "      <td>30.000000</td>\n",
       "      <td>243.000000</td>\n",
       "      <td>5.000000</td>\n",
       "      <td>3.985000e+03</td>\n",
       "      <td>3.263700e+04</td>\n",
       "      <td>2.661000e+03</td>\n",
       "      <td>NaN</td>\n",
       "      <td>NaN</td>\n",
       "    </tr>\n",
       "    <tr>\n",
       "      <th>75%</th>\n",
       "      <td>5.398581e+07</td>\n",
       "      <td>1976.000000</td>\n",
       "      <td>26.000000</td>\n",
       "      <td>51.000000</td>\n",
       "      <td>52.000000</td>\n",
       "      <td>46.000000</td>\n",
       "      <td>1561.000000</td>\n",
       "      <td>243.000000</td>\n",
       "      <td>5.124350e+04</td>\n",
       "      <td>477.500000</td>\n",
       "      <td>81.000000</td>\n",
       "      <td>725.500000</td>\n",
       "      <td>13.000000</td>\n",
       "      <td>1.254700e+04</td>\n",
       "      <td>1.030705e+05</td>\n",
       "      <td>1.089200e+04</td>\n",
       "      <td>NaN</td>\n",
       "      <td>NaN</td>\n",
       "    </tr>\n",
       "    <tr>\n",
       "      <th>max</th>\n",
       "      <td>9.458913e+07</td>\n",
       "      <td>443276.000000</td>\n",
       "      <td>4408.000000</td>\n",
       "      <td>1032.000000</td>\n",
       "      <td>1736.000000</td>\n",
       "      <td>6846.000000</td>\n",
       "      <td>250837.000000</td>\n",
       "      <td>46343.000000</td>\n",
       "      <td>1.185815e+07</td>\n",
       "      <td>64364.000000</td>\n",
       "      <td>26287.000000</td>\n",
       "      <td>46962.000000</td>\n",
       "      <td>1556.000000</td>\n",
       "      <td>2.341225e+06</td>\n",
       "      <td>2.499625e+07</td>\n",
       "      <td>7.924667e+06</td>\n",
       "      <td>NaN</td>\n",
       "      <td>NaN</td>\n",
       "    </tr>\n",
       "  </tbody>\n",
       "</table>\n",
       "</div>"
      ],
      "text/plain": [
       "                 id        commits     branches     releases  contributors  \\\n",
       "count  7.899000e+03    7899.000000  7899.000000  7899.000000   7899.000000   \n",
       "mean   2.663624e+07    2245.139132    34.122800    48.706419     50.498671   \n",
       "std    3.019270e+07    7352.986689   108.422671   101.970801     74.809144   \n",
       "min    3.258141e+06     101.000000     1.000000     0.000000      6.000000   \n",
       "25%    3.988670e+06     385.000000     4.000000     5.000000     13.000000   \n",
       "50%    7.558349e+06     826.000000    10.000000    21.000000     24.000000   \n",
       "75%    5.398581e+07    1976.000000    26.000000    51.000000     52.000000   \n",
       "max    9.458913e+07  443276.000000  4408.000000  1032.000000   1736.000000   \n",
       "\n",
       "          watchers     stargazers         forks          size   totalIssues  \\\n",
       "count  7899.000000    7899.000000   7899.000000  7.899000e+03   7899.000000   \n",
       "mean     50.840739    2071.021648    321.976833  7.565628e+04    535.415875   \n",
       "std     158.995565    6802.241001   1229.265646  3.085476e+05   1575.902162   \n",
       "min       0.000000     101.000000      0.000000  8.100000e+01      1.000000   \n",
       "25%      12.000000     214.000000     46.000000  3.267000e+03     82.000000   \n",
       "50%      23.000000     496.000000     97.000000  1.309300e+04    187.000000   \n",
       "75%      46.000000    1561.000000    243.000000  5.124350e+04    477.500000   \n",
       "max    6846.000000  250837.000000  46343.000000  1.185815e+07  64364.000000   \n",
       "\n",
       "         openIssues  totalPullRequests  openPullRequests    blankLines  \\\n",
       "count   7899.000000        7899.000000       7899.000000  7.899000e+03   \n",
       "mean      94.016838         751.892645         12.973414  2.065771e+04   \n",
       "std      393.775727        1732.294533         34.804647  8.282623e+04   \n",
       "min        0.000000           0.000000          0.000000  0.000000e+00   \n",
       "25%       11.000000          87.500000          1.000000  1.304000e+03   \n",
       "50%       30.000000         243.000000          5.000000  3.985000e+03   \n",
       "75%       81.000000         725.500000         13.000000  1.254700e+04   \n",
       "max    26287.000000       46962.000000       1556.000000  2.341225e+06   \n",
       "\n",
       "          codeLines  commentLines  hasWiki  isArchived  \n",
       "count  7.899000e+03  7.899000e+03      0.0         0.0  \n",
       "mean   1.883669e+05  2.778270e+04      NaN         NaN  \n",
       "std    7.748053e+05  1.596777e+05      NaN         NaN  \n",
       "min    1.000000e+00  0.000000e+00      NaN         NaN  \n",
       "25%    1.074450e+04  5.675000e+02      NaN         NaN  \n",
       "50%    3.263700e+04  2.661000e+03      NaN         NaN  \n",
       "75%    1.030705e+05  1.089200e+04      NaN         NaN  \n",
       "max    2.499625e+07  7.924667e+06      NaN         NaN  "
      ]
     },
     "execution_count": 3,
     "metadata": {},
     "output_type": "execute_result"
    }
   ],
   "source": [
    "df.describe()"
   ]
  },
  {
   "cell_type": "markdown",
   "id": "daecc968",
   "metadata": {},
   "source": [
    "### Analysing Stargazers"
   ]
  },
  {
   "cell_type": "code",
   "execution_count": 17,
   "id": "815dae9b",
   "metadata": {
    "scrolled": true
   },
   "outputs": [
    {
     "data": {
      "image/png": "[encoded data removed]",
      "text/plain": [
       "<Figure size 576x360 with 1 Axes>"
      ]
     },
     "metadata": {
      "needs_background": "light"
     },
     "output_type": "display_data"
    }
   ],
   "source": [
    "plt.figure(figsize=(8, 5))\n",
    "plt.hist(df['stargazers'], bins=range(0, 10000, 10), edgecolor='black', alpha=0.7)\n",
    "plt.title('Distribution of Stargazers for Repositories')\n",
    "plt.xlabel('Number of Stargazers')\n",
    "plt.ylabel('Frequency')\n",
    "\n",
    "plt.show()"
   ]
  },
  {
   "cell_type": "code",
   "execution_count": 5,
   "id": "ab8e4a1f",
   "metadata": {},
   "outputs": [
    {
     "name": "stdout",
     "output_type": "stream",
     "text": [
      "Count of repositories with under 300 stars is 2804 representing 35.50% of the total number of repositories\n",
      "Count of repositories with under 300 stars is 5088 representing 64.41% of the total number of repositories\n"
     ]
    }
   ],
   "source": [
    "threshold = 300\n",
    "\n",
    "under_threshold_stars_count = (df['stargazers'] < threshold).sum()\n",
    "over_threshold_stars_count = (df['stargazers'] > threshold).sum()\n",
    "\n",
    "print(f\"Count of repositories with under {threshold} stars is {under_threshold_stars_count} representing {((under_threshold_stars_count/df.shape[0])*100):.2f}% of the total number of repositories\")\n",
    "print(f\"Count of repositories with under {threshold} stars is {over_threshold_stars_count} representing {((over_threshold_stars_count/df.shape[0])*100):.2f}% of the total number of repositories\")"
   ]
  },
  {
   "cell_type": "code",
   "execution_count": 6,
   "id": "55180a5a",
   "metadata": {},
   "outputs": [
    {
     "data": {
      "image/png": "[encoded data removed]",
      "text/plain": [
       "<Figure size 576x360 with 1 Axes>"
      ]
     },
     "metadata": {
      "needs_background": "light"
     },
     "output_type": "display_data"
    },
    {
     "data": {
      "image/png": "[encoded data removed]",
      "text/plain": [
       "<Figure size 576x360 with 1 Axes>"
      ]
     },
     "metadata": {
      "needs_background": "light"
     },
     "output_type": "display_data"
    }
   ],
   "source": [
    "df['log_stargazers'] = df['stargazers'].apply(lambda x: max(1, x))  # Avoid log(0)\n",
    "df['log_stargazers'] = df['log_stargazers'].apply(lambda x: np.log10(x))\n",
    "\n",
    "# Boxplot with logarithmic scale\n",
    "plt.figure(figsize=(8, 5))\n",
    "sns.boxplot(x=df['log_stargazers'], color='skyblue')\n",
    "plt.title('Boxplot of Repository Stargazers (Logarithmic Scale)')\n",
    "plt.xlabel('Log Repository Stargazers')\n",
    "\n",
    "plt.show()\n",
    "\n",
    "# Histogram with logarithmic scale\n",
    "plt.figure(figsize=(8, 5))\n",
    "plt.hist(df['log_stargazers'], bins=30, edgecolor='black', alpha=0.7)\n",
    "plt.title('Distribution of Repository Stargazers (Logarithmic Scale)')\n",
    "plt.xlabel('Log Repository Stargazers')\n",
    "plt.ylabel('Frequency')\n",
    "\n",
    "plt.show()"
   ]
  },
  {
   "cell_type": "markdown",
   "id": "65dab526",
   "metadata": {},
   "source": [
    "### Choosing Appropriate Threasholds for Filtering"
   ]
  },
  {
   "cell_type": "code",
   "execution_count": 15,
   "id": "17b1f9a6",
   "metadata": {
    "scrolled": false
   },
   "outputs": [
    {
     "data": {
      "image/png": "[encoded data removed]",
      "text/plain": [
       "<Figure size 576x360 with 1 Axes>"
      ]
     },
     "metadata": {
      "needs_background": "light"
     },
     "output_type": "display_data"
    }
   ],
   "source": [
    "plt.figure(figsize=(8, 5))\n",
    "plt.hist(df['size'], bins=range(0, 100000, 1000), edgecolor='black', alpha=0.7)\n",
    "plt.title('Distribution of size for Repositories')\n",
    "plt.xlabel('Size')\n",
    "plt.ylabel('Frequency')\n",
    "\n",
    "plt.show()"
   ]
  },
  {
   "cell_type": "code",
   "execution_count": 8,
   "id": "5e95af4d",
   "metadata": {},
   "outputs": [
    {
     "data": {
      "image/png": "[encoded data removed]",
      "text/plain": [
       "<Figure size 576x360 with 1 Axes>"
      ]
     },
     "metadata": {
      "needs_background": "light"
     },
     "output_type": "display_data"
    },
    {
     "data": {
      "image/png": "[encoded data removed]",
      "text/plain": [
       "<Figure size 576x360 with 1 Axes>"
      ]
     },
     "metadata": {
      "needs_background": "light"
     },
     "output_type": "display_data"
    }
   ],
   "source": [
    "df['log_size'] = df['size'].apply(lambda x: max(1, x))  # Avoid log(0)\n",
    "df['log_size'] = df['log_size'].apply(lambda x: np.log10(x))\n",
    "\n",
    "# Boxplot with logarithmic scale\n",
    "plt.figure(figsize=(8, 5))\n",
    "sns.boxplot(x=df['log_size'], color='skyblue')\n",
    "plt.title('Boxplot of Repository Sizes (Logarithmic Scale)')\n",
    "plt.xlabel('Log Repository Size')\n",
    "\n",
    "plt.show()\n",
    "\n",
    "# Histogram with logarithmic scale\n",
    "plt.figure(figsize=(8, 5))\n",
    "plt.hist(df['log_size'], bins=30, edgecolor='black', alpha=0.7)\n",
    "plt.title('Distribution of Repository Sizes (Logarithmic Scale)')\n",
    "plt.xlabel('Log Repository Size')\n",
    "plt.ylabel('Frequency')\n",
    "\n",
    "plt.show()"
   ]
  }
 ],
 "metadata": {
  "kernelspec": {
   "display_name": "Python 3",
   "language": "python",
   "name": "python3"
  },
  "language_info": {
   "codemirror_mode": {
    "name": "ipython",
    "version": 3
   },
   "file_extension": ".py",
   "mimetype": "text/x-python",
   "name": "python",
   "nbconvert_exporter": "python",
   "pygments_lexer": "ipython3",
   "version": "3.9.1"
  }
 },
 "nbformat": 4,
 "nbformat_minor": 5
}
