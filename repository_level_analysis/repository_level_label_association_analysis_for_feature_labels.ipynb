{
 "cells": [
  {
   "cell_type": "markdown",
   "id": "849fd744",
   "metadata": {},
   "source": [
    "# <center> What is a Feature ? <br><br> Research Question: On the Repository Level, What Labels are Used in Conjunction with \"Feature Labels\" ?</center>"
   ]
  },
  {
   "cell_type": "markdown",
   "id": "6a9f74bb",
   "metadata": {},
   "source": [
    "### Glossary\n",
    "\n",
    "<b>Feature Label</b>: a label that contains the word \"feature\". <br>\n",
    "<b>Feature Issue</b>: an issue that has at least one <b>feature label</b>. <br>\n",
    "<b>Feature Issue Dataset</b>: a dataset containing a number of <b>feature issues</b>. Each feature issue is associated with the repository it comes from through the \"repository name\" column."
   ]
  },
  {
   "cell_type": "markdown",
   "id": "b4c837ae",
   "metadata": {},
   "source": [
    "### Importing Required Libraries"
   ]
  },
  {
   "cell_type": "code",
   "execution_count": 1,
   "id": "a223dcd9",
   "metadata": {},
   "outputs": [],
   "source": [
    "import pandas as pd\n",
    "import ast\n",
    "import matplotlib.pyplot as plt\n",
    "import seaborn as sns"
   ]
  },
  {
   "cell_type": "markdown",
   "id": "4a3f6177",
   "metadata": {},
   "source": [
    "### Importing Appropriate DataSet"
   ]
  },
  {
   "cell_type": "code",
   "execution_count": 2,
   "id": "05c27225",
   "metadata": {
    "scrolled": true
   },
   "outputs": [
    {
     "name": "stdout",
     "output_type": "stream",
     "text": [
      "Full Shape: (7899, 34)\n"
     ]
    },
    {
     "data": {
      "text/html": [
       "<div>\n",
       "<style scoped>\n",
       "    .dataframe tbody tr th:only-of-type {\n",
       "        vertical-align: middle;\n",
       "    }\n",
       "\n",
       "    .dataframe tbody tr th {\n",
       "        vertical-align: top;\n",
       "    }\n",
       "\n",
       "    .dataframe thead th {\n",
       "        text-align: right;\n",
       "    }\n",
       "</style>\n",
       "<table border=\"1\" class=\"dataframe\">\n",
       "  <thead>\n",
       "    <tr style=\"text-align: right;\">\n",
       "      <th></th>\n",
       "      <th>id</th>\n",
       "      <th>name</th>\n",
       "      <th>isFork</th>\n",
       "      <th>commits</th>\n",
       "      <th>branches</th>\n",
       "      <th>defaultBranch</th>\n",
       "      <th>releases</th>\n",
       "      <th>contributors</th>\n",
       "      <th>license</th>\n",
       "      <th>watchers</th>\n",
       "      <th>stargazers</th>\n",
       "      <th>forks</th>\n",
       "      <th>size</th>\n",
       "      <th>createdAt</th>\n",
       "      <th>pushedAt</th>\n",
       "      <th>updatedAt</th>\n",
       "      <th>homepage</th>\n",
       "      <th>mainLanguage</th>\n",
       "      <th>totalIssues</th>\n",
       "      <th>openIssues</th>\n",
       "      <th>totalPullRequests</th>\n",
       "      <th>openPullRequests</th>\n",
       "      <th>blankLines</th>\n",
       "      <th>codeLines</th>\n",
       "      <th>commentLines</th>\n",
       "      <th>metrics</th>\n",
       "      <th>lastCommit</th>\n",
       "      <th>lastCommitSHA</th>\n",
       "      <th>hasWiki</th>\n",
       "      <th>isArchived</th>\n",
       "      <th>languages</th>\n",
       "      <th>labels</th>\n",
       "      <th>topics</th>\n",
       "      <th>feature_labels</th>\n",
       "    </tr>\n",
       "  </thead>\n",
       "  <tbody>\n",
       "    <tr>\n",
       "      <th>0</th>\n",
       "      <td>3258141</td>\n",
       "      <td>alibaba/vlayout</td>\n",
       "      <td>False</td>\n",
       "      <td>366.0</td>\n",
       "      <td>12.0</td>\n",
       "      <td>master</td>\n",
       "      <td>34.0</td>\n",
       "      <td>17.0</td>\n",
       "      <td>MIT License</td>\n",
       "      <td>341.0</td>\n",
       "      <td>10795</td>\n",
       "      <td>1818</td>\n",
       "      <td>1726</td>\n",
       "      <td>2017-02-27 08:11:47</td>\n",
       "      <td>2021-07-14 04:40:34</td>\n",
       "      <td>2021-07-14 04:40:58</td>\n",
       "      <td>http://tangram.pingguohe.net/</td>\n",
       "      <td>Java</td>\n",
       "      <td>503.0</td>\n",
       "      <td>190.0</td>\n",
       "      <td>23.0</td>\n",
       "      <td>5.0</td>\n",
       "      <td>3672</td>\n",
       "      <td>14074</td>\n",
       "      <td>4262</td>\n",
       "      <td>[{'blankLines': 3101, 'language': 'Java', 'com...</td>\n",
       "      <td>2021-07-14T04:40:34</td>\n",
       "      <td>00d6be0a1fa89c2f54ca923d2ea2e34d279d289e</td>\n",
       "      <td>NaN</td>\n",
       "      <td>NaN</td>\n",
       "      <td>{'Java': 669506}</td>\n",
       "      <td>[bug, duplicate, enhancement, feature, help wa...</td>\n",
       "      <td>[]</td>\n",
       "      <td>[feature]</td>\n",
       "    </tr>\n",
       "    <tr>\n",
       "      <th>1</th>\n",
       "      <td>3258277</td>\n",
       "      <td>goxr3plus/java-stream-player</td>\n",
       "      <td>False</td>\n",
       "      <td>181.0</td>\n",
       "      <td>4.0</td>\n",
       "      <td>master</td>\n",
       "      <td>11.0</td>\n",
       "      <td>6.0</td>\n",
       "      <td>GNU General Public License v3.0</td>\n",
       "      <td>9.0</td>\n",
       "      <td>123</td>\n",
       "      <td>29</td>\n",
       "      <td>5664</td>\n",
       "      <td>2017-10-23 02:33:38</td>\n",
       "      <td>2023-02-07 12:28:27</td>\n",
       "      <td>2023-01-24 04:00:42</td>\n",
       "      <td>NaN</td>\n",
       "      <td>Java</td>\n",
       "      <td>43.0</td>\n",
       "      <td>23.0</td>\n",
       "      <td>34.0</td>\n",
       "      <td>7.0</td>\n",
       "      <td>922</td>\n",
       "      <td>2533</td>\n",
       "      <td>1524</td>\n",
       "      <td>[{'blankLines': 1, 'language': 'YAML', 'commen...</td>\n",
       "      <td>2023-02-07T12:28:27</td>\n",
       "      <td>09ddefe497a894dc9462d330792a9f09f69e2c77</td>\n",
       "      <td>NaN</td>\n",
       "      <td>NaN</td>\n",
       "      <td>{'Java': 130948}</td>\n",
       "      <td>[bug, dependencies, duplicate, enhancement, fe...</td>\n",
       "      <td>[]</td>\n",
       "      <td>[feature request]</td>\n",
       "    </tr>\n",
       "  </tbody>\n",
       "</table>\n",
       "</div>"
      ],
      "text/plain": [
       "        id                          name  isFork  commits  branches  \\\n",
       "0  3258141               alibaba/vlayout   False    366.0      12.0   \n",
       "1  3258277  goxr3plus/java-stream-player   False    181.0       4.0   \n",
       "\n",
       "  defaultBranch  releases  contributors                          license  \\\n",
       "0        master      34.0          17.0                      MIT License   \n",
       "1        master      11.0           6.0  GNU General Public License v3.0   \n",
       "\n",
       "   watchers  stargazers  forks  size            createdAt  \\\n",
       "0     341.0       10795   1818  1726  2017-02-27 08:11:47   \n",
       "1       9.0         123     29  5664  2017-10-23 02:33:38   \n",
       "\n",
       "              pushedAt            updatedAt                       homepage  \\\n",
       "0  2021-07-14 04:40:34  2021-07-14 04:40:58  http://tangram.pingguohe.net/   \n",
       "1  2023-02-07 12:28:27  2023-01-24 04:00:42                            NaN   \n",
       "\n",
       "  mainLanguage  totalIssues  openIssues  totalPullRequests  openPullRequests  \\\n",
       "0         Java        503.0       190.0               23.0               5.0   \n",
       "1         Java         43.0        23.0               34.0               7.0   \n",
       "\n",
       "   blankLines  codeLines  commentLines  \\\n",
       "0        3672      14074          4262   \n",
       "1         922       2533          1524   \n",
       "\n",
       "                                             metrics           lastCommit  \\\n",
       "0  [{'blankLines': 3101, 'language': 'Java', 'com...  2021-07-14T04:40:34   \n",
       "1  [{'blankLines': 1, 'language': 'YAML', 'commen...  2023-02-07T12:28:27   \n",
       "\n",
       "                              lastCommitSHA  hasWiki  isArchived  \\\n",
       "0  00d6be0a1fa89c2f54ca923d2ea2e34d279d289e      NaN         NaN   \n",
       "1  09ddefe497a894dc9462d330792a9f09f69e2c77      NaN         NaN   \n",
       "\n",
       "          languages                                             labels topics  \\\n",
       "0  {'Java': 669506}  [bug, duplicate, enhancement, feature, help wa...     []   \n",
       "1  {'Java': 130948}  [bug, dependencies, duplicate, enhancement, fe...     []   \n",
       "\n",
       "      feature_labels  \n",
       "0          [feature]  \n",
       "1  [feature request]  "
      ]
     },
     "execution_count": 2,
     "metadata": {},
     "output_type": "execute_result"
    }
   ],
   "source": [
    "pd.set_option('display.max_columns', None)\n",
    "pd.set_option('display.max_colwidth', None)\n",
    "pd.set_option('display.max_rows', None)\n",
    "\n",
    "#pd.reset_option('max_columns')\n",
    "pd.reset_option('max_colwidth')\n",
    "pd.reset_option('max_rows')\n",
    "\n",
    "df = pd.read_csv('../../dataset/repositories/filtered/filtered_feature_label_dataset.csv')\n",
    "\n",
    "# Converting strings to actual python lists\n",
    "df['labels'] = df['labels'].apply(ast.literal_eval)\n",
    "df['feature_labels'] = df['feature_labels'].apply(ast.literal_eval)\n",
    "df['topics'] = df['topics'].apply(ast.literal_eval)\n",
    "\n",
    "print('Full Shape:', df.shape)\n",
    "df.head(2)"
   ]
  },
  {
   "cell_type": "markdown",
   "id": "35f30549",
   "metadata": {},
   "source": [
    "### Group \"Feature Labels\" Together with their Associated Label and Count Association Occurrences"
   ]
  },
  {
   "cell_type": "code",
   "execution_count": 15,
   "id": "fc6b397e",
   "metadata": {},
   "outputs": [],
   "source": [
    "exploded_labels = df.explode('feature_labels').explode('labels')\n",
    "\n",
    "exploded_labels.shape\n",
    "\n",
    "label_counts = exploded_labels.groupby(['feature_labels', 'labels']).size().reset_index(name='count')\n",
    "\n",
    "label_counts_summary_sorted = label_counts.sort_values(by='count', ascending=False)\n",
    "\n",
    "label_counts_summary_sorted = label_counts_summary_sorted[label_counts_summary_sorted['count'] > 300]\n",
    "label_counts_summary_sorted = label_counts_summary_sorted[label_counts_summary_sorted['feature_labels'] != label_counts_summary_sorted['labels']]"
   ]
  },
  {
   "cell_type": "code",
   "execution_count": 16,
   "id": "55b81535",
   "metadata": {
    "scrolled": true
   },
   "outputs": [
    {
     "data": {
      "text/html": [
       "<div>\n",
       "<style scoped>\n",
       "    .dataframe tbody tr th:only-of-type {\n",
       "        vertical-align: middle;\n",
       "    }\n",
       "\n",
       "    .dataframe tbody tr th {\n",
       "        vertical-align: top;\n",
       "    }\n",
       "\n",
       "    .dataframe thead th {\n",
       "        text-align: right;\n",
       "    }\n",
       "</style>\n",
       "<table border=\"1\" class=\"dataframe\">\n",
       "  <thead>\n",
       "    <tr style=\"text-align: right;\">\n",
       "      <th></th>\n",
       "      <th>feature_labels</th>\n",
       "      <th>labels</th>\n",
       "      <th>count</th>\n",
       "    </tr>\n",
       "  </thead>\n",
       "  <tbody>\n",
       "    <tr>\n",
       "      <th>40751</th>\n",
       "      <td>feature</td>\n",
       "      <td>bug</td>\n",
       "      <td>2554</td>\n",
       "    </tr>\n",
       "    <tr>\n",
       "      <th>49047</th>\n",
       "      <td>feature</td>\n",
       "      <td>question</td>\n",
       "      <td>2142</td>\n",
       "    </tr>\n",
       "    <tr>\n",
       "      <th>43096</th>\n",
       "      <td>feature</td>\n",
       "      <td>duplicate</td>\n",
       "      <td>2131</td>\n",
       "    </tr>\n",
       "    <tr>\n",
       "      <th>44737</th>\n",
       "      <td>feature</td>\n",
       "      <td>help wanted</td>\n",
       "      <td>2052</td>\n",
       "    </tr>\n",
       "    <tr>\n",
       "      <th>53036</th>\n",
       "      <td>feature</td>\n",
       "      <td>wontfix</td>\n",
       "      <td>1983</td>\n",
       "    </tr>\n",
       "  </tbody>\n",
       "</table>\n",
       "</div>"
      ],
      "text/plain": [
       "      feature_labels       labels  count\n",
       "40751        feature          bug   2554\n",
       "49047        feature     question   2142\n",
       "43096        feature    duplicate   2131\n",
       "44737        feature  help wanted   2052\n",
       "53036        feature      wontfix   1983"
      ]
     },
     "execution_count": 16,
     "metadata": {},
     "output_type": "execute_result"
    }
   ],
   "source": [
    "label_counts_summary_sorted.head()"
   ]
  },
  {
   "cell_type": "markdown",
   "id": "3ea037d0",
   "metadata": {},
   "source": [
    "### Plot Results"
   ]
  },
  {
   "cell_type": "code",
   "execution_count": 17,
   "id": "a4e02aa9",
   "metadata": {},
   "outputs": [
    {
     "data": {
      "image/png": "[encoded data removed]",
      "text/plain": [
       "<Figure size 1008x576 with 1 Axes>"
      ]
     },
     "metadata": {
      "needs_background": "light"
     },
     "output_type": "display_data"
    }
   ],
   "source": [
    "plt.figure(figsize=(14, 8))\n",
    "sns.barplot(x='feature_labels', y='count', hue='labels', data=label_counts_summary_sorted)\n",
    "plt.xlabel('Feature Labels')\n",
    "plt.ylabel('Count')\n",
    "plt.title('Distribution of Labels for \"Feature Labels\" on the Repository Level')\n",
    "plt.xticks(rotation=45, ha='right')  # Rotate x-axis labels for better readability\n",
    "plt.legend(title='Labels', title_fontsize='12')\n",
    "plt.show()"
   ]
  },
  {
   "cell_type": "code",
   "execution_count": null,
   "id": "7c38187d",
   "metadata": {},
   "outputs": [],
   "source": []
  }
 ],
 "metadata": {
  "kernelspec": {
   "display_name": "Python 3",
   "language": "python",
   "name": "python3"
  },
  "language_info": {
   "codemirror_mode": {
    "name": "ipython",
    "version": 3
   },
   "file_extension": ".py",
   "mimetype": "text/x-python",
   "name": "python",
   "nbconvert_exporter": "python",
   "pygments_lexer": "ipython3",
   "version": "3.9.1"
  }
 },
 "nbformat": 4,
 "nbformat_minor": 5
}
