{
 "cells": [
  {
   "cell_type": "markdown",
   "id": "849fd744",
   "metadata": {},
   "source": [
    "# <center> What is a Feature ? <br><br> Research Question: Can we find a difference between repository-specific and general feature labels ?</center>"
   ]
  },
  {
   "cell_type": "markdown",
   "id": "c5e79ab2",
   "metadata": {},
   "source": [
    "### Glossary\n",
    "\n",
    "<b>Feature Label</b>: a label that contains the word \"feature\". <br>\n",
    "<b>Feature Issue</b>: an issue that has at least one <b>feature label</b>. <br>\n",
    "<b>Feature Issue Dataset</b>: a dataset containing a number of <b>feature issues</b>. Each feature issue is associated with the repository it comes from through the \"repository name\" column."
   ]
  },
  {
   "cell_type": "markdown",
   "id": "b4c837ae",
   "metadata": {},
   "source": [
    "### Importing Required Libraries"
   ]
  },
  {
   "cell_type": "code",
   "execution_count": 118,
   "id": "a223dcd9",
   "metadata": {},
   "outputs": [],
   "source": [
    "import pandas as pd\n",
    "import ast\n",
    "import matplotlib.pyplot as plt\n",
    "import seaborn as sns\n",
    "import plotly.express as px\n",
    "from scipy import stats\n",
    "import numpy as np\n",
    "import os"
   ]
  },
  {
   "cell_type": "markdown",
   "id": "4a3f6177",
   "metadata": {},
   "source": [
    "### Importing Appropriate DataSet"
   ]
  },
  {
   "cell_type": "code",
   "execution_count": 119,
   "id": "05c27225",
   "metadata": {
    "scrolled": false
   },
   "outputs": [
    {
     "name": "stdout",
     "output_type": "stream",
     "text": [
      "Issue Dataframe Shape: (265089, 15)\n",
      "Exploded Issue Dataframe Shape: (283709, 15)\n"
     ]
    },
    {
     "data": {
      "text/html": [
       "<div>\n",
       "<style scoped>\n",
       "    .dataframe tbody tr th:only-of-type {\n",
       "        vertical-align: middle;\n",
       "    }\n",
       "\n",
       "    .dataframe tbody tr th {\n",
       "        vertical-align: top;\n",
       "    }\n",
       "\n",
       "    .dataframe thead th {\n",
       "        text-align: right;\n",
       "    }\n",
       "</style>\n",
       "<table border=\"1\" class=\"dataframe\">\n",
       "  <thead>\n",
       "    <tr style=\"text-align: right;\">\n",
       "      <th></th>\n",
       "      <th>repositoryName</th>\n",
       "      <th>issueTitle</th>\n",
       "      <th>issueBody</th>\n",
       "      <th>issueNumber</th>\n",
       "      <th>issueState</th>\n",
       "      <th>issueCreatedAt</th>\n",
       "      <th>issueUpdatedAt</th>\n",
       "      <th>issueClosedAt</th>\n",
       "      <th>issueUser</th>\n",
       "      <th>assignee</th>\n",
       "      <th>issueLabels</th>\n",
       "      <th>milestone</th>\n",
       "      <th>comments</th>\n",
       "      <th>commentsURL</th>\n",
       "      <th>featureLabels</th>\n",
       "    </tr>\n",
       "  </thead>\n",
       "  <tbody>\n",
       "    <tr>\n",
       "      <th>0</th>\n",
       "      <td>aws/aws-tools-for-powershell</td>\n",
       "      <td>Disable TLS Certificate Check</td>\n",
       "      <td>### Describe the feature\\n\\nIssue previously r...</td>\n",
       "      <td>334</td>\n",
       "      <td>open</td>\n",
       "      <td>2023-11-27 07:25:10+00:00</td>\n",
       "      <td>2023-12-08 18:20:22+00:00</td>\n",
       "      <td>NaN</td>\n",
       "      <td>BoneyAz</td>\n",
       "      <td>Not assigned</td>\n",
       "      <td>[feature-request, module/powershell-cmdlets, q...</td>\n",
       "      <td>No milestone</td>\n",
       "      <td>2</td>\n",
       "      <td>https://api.github.com/repos/aws/aws-tools-for...</td>\n",
       "      <td>feature-request</td>\n",
       "    </tr>\n",
       "    <tr>\n",
       "      <th>1</th>\n",
       "      <td>aws/aws-tools-for-powershell</td>\n",
       "      <td>Add support for IAM Identity Center (SSO) auth...</td>\n",
       "      <td>### Describe the feature\\r\\n\\r\\nImplement nati...</td>\n",
       "      <td>332</td>\n",
       "      <td>open</td>\n",
       "      <td>2023-08-18 18:04:46+00:00</td>\n",
       "      <td>2023-08-25 16:33:08+00:00</td>\n",
       "      <td>NaN</td>\n",
       "      <td>dbaileyut</td>\n",
       "      <td>Not assigned</td>\n",
       "      <td>[feature-request, module/powershell-cmdlets, p...</td>\n",
       "      <td>No milestone</td>\n",
       "      <td>2</td>\n",
       "      <td>https://api.github.com/repos/aws/aws-tools-for...</td>\n",
       "      <td>feature-request</td>\n",
       "    </tr>\n",
       "  </tbody>\n",
       "</table>\n",
       "</div>"
      ],
      "text/plain": [
       "                 repositoryName  \\\n",
       "0  aws/aws-tools-for-powershell   \n",
       "1  aws/aws-tools-for-powershell   \n",
       "\n",
       "                                          issueTitle  \\\n",
       "0                      Disable TLS Certificate Check   \n",
       "1  Add support for IAM Identity Center (SSO) auth...   \n",
       "\n",
       "                                           issueBody  issueNumber issueState  \\\n",
       "0  ### Describe the feature\\n\\nIssue previously r...          334       open   \n",
       "1  ### Describe the feature\\r\\n\\r\\nImplement nati...          332       open   \n",
       "\n",
       "              issueCreatedAt             issueUpdatedAt issueClosedAt  \\\n",
       "0  2023-11-27 07:25:10+00:00  2023-12-08 18:20:22+00:00           NaN   \n",
       "1  2023-08-18 18:04:46+00:00  2023-08-25 16:33:08+00:00           NaN   \n",
       "\n",
       "   issueUser      assignee                                        issueLabels  \\\n",
       "0    BoneyAz  Not assigned  [feature-request, module/powershell-cmdlets, q...   \n",
       "1  dbaileyut  Not assigned  [feature-request, module/powershell-cmdlets, p...   \n",
       "\n",
       "      milestone  comments                                        commentsURL  \\\n",
       "0  No milestone         2  https://api.github.com/repos/aws/aws-tools-for...   \n",
       "1  No milestone         2  https://api.github.com/repos/aws/aws-tools-for...   \n",
       "\n",
       "     featureLabels  \n",
       "0  feature-request  \n",
       "1  feature-request  "
      ]
     },
     "execution_count": 119,
     "metadata": {},
     "output_type": "execute_result"
    }
   ],
   "source": [
    "pd.set_option('display.max_columns', None)\n",
    "pd.set_option('display.max_colwidth', None)\n",
    "pd.set_option('display.max_rows', None)\n",
    "\n",
    "#pd.reset_option('max_columns')\n",
    "pd.reset_option('max_colwidth')\n",
    "pd.reset_option('max_rows')\n",
    "\n",
    "def combine_partial_datasets(folder_path):\n",
    "    # Get a list of all files in the specified folder\n",
    "    file_list = [f for f in os.listdir(folder_path) if f.endswith('.csv')]\n",
    "    dfs = []\n",
    "    for file in file_list:\n",
    "        file_path = os.path.join(folder_path, file)\n",
    "        df = pd.read_csv(file_path)\n",
    "        dfs.append(df)\n",
    "    combined_df = pd.concat(dfs, ignore_index=True)\n",
    "\n",
    "    return combined_df\n",
    "\n",
    "df_issues = combine_partial_datasets('../../dataset/issues/partial_datasets/')\n",
    "\n",
    "df_issues['issueLabels'] = df_issues['issueLabels'].fillna('[]')\n",
    "\n",
    "# Converting string to actual python lists\n",
    "df_issues['issueLabels'] = df_issues['issueLabels'].apply(ast.literal_eval)\n",
    "\n",
    "# Adding a column for each issue containing only its 'feature labels'\n",
    "df_issues.loc[:, 'featureLabels'] = df_issues['issueLabels'].apply(lambda labels: [label for label in labels if \"feature\" in label.lower()])\n",
    "\n",
    "df_issues_exploded = df_issues.explode('featureLabels')\n",
    "\n",
    "print('Issue Dataframe Shape:', df_issues.shape)\n",
    "print('Exploded Issue Dataframe Shape:', df_issues_exploded.shape)\n",
    "\n",
    "df_issues_exploded.head(2)"
   ]
  },
  {
   "cell_type": "markdown",
   "id": "58cf1203",
   "metadata": {},
   "source": [
    "### Distribution of Feature Labels with Regards to Repositories"
   ]
  },
  {
   "cell_type": "code",
   "execution_count": 120,
   "id": "62d2a1e5",
   "metadata": {
    "scrolled": false
   },
   "outputs": [
    {
     "name": "stdout",
     "output_type": "stream",
     "text": [
      "There are 3643 unique repositories in our dataset and 1014 unique 'feature labels'. The latter follow the distribution below: \n",
      "\n",
      "featureLabels\n",
      "#Feature               1\n",
      "2-Feature              1\n",
      ":Feature/Datastream    1\n",
      ":sparkles:Feature      1\n",
      ":star: top feature     1\n",
      "                      ..\n",
      "what/feature           2\n",
      "wip-feature            1\n",
      "✨ feature-request      1\n",
      "🌟 feature              1\n",
      "🧄 feature/agent-ui     1\n",
      "Name: repositoryName, Length: 1013, dtype: int64\n"
     ]
    }
   ],
   "source": [
    "number_of_unique_repos = df_issues_exploded.repositoryName.unique().size\n",
    "number_of_unique_feature_labels = df_issues_exploded.featureLabels.unique().size\n",
    "feature_counts = df_issues_exploded.groupby('featureLabels')['repositoryName'].nunique()\n",
    "\n",
    "print(f\"There are {number_of_unique_repos} unique repositories in our dataset and {number_of_unique_feature_labels} unique 'feature labels'. The latter follow the distribution below: \\n\")\n",
    "print(feature_counts)"
   ]
  },
  {
   "cell_type": "markdown",
   "id": "dfc115f8",
   "metadata": {},
   "source": [
    "### Analysis of General vs. Repository-Specific Feature Labels"
   ]
  },
  {
   "cell_type": "code",
   "execution_count": 121,
   "id": "993d63b4",
   "metadata": {},
   "outputs": [],
   "source": [
    "def show_general_feature_label_distribution(general_feature_labels):\n",
    "    plt.figure(figsize=(10, 6))\n",
    "    general_feature_labels.sort_values(ascending=False).plot(kind='bar', color='skyblue')\n",
    "    plt.title('Number of Repositories for Each Feature Label')\n",
    "    plt.xlabel('Feature Labels')\n",
    "    plt.ylabel('Number of Repositories')\n",
    "    plt.xticks(rotation=45)\n",
    "    \n",
    "    plt.show()"
   ]
  },
  {
   "cell_type": "markdown",
   "id": "254b2861",
   "metadata": {},
   "source": [
    "### Results"
   ]
  },
  {
   "cell_type": "code",
   "execution_count": 122,
   "id": "2466c623",
   "metadata": {},
   "outputs": [
    {
     "name": "stdout",
     "output_type": "stream",
     "text": [
      "We define a general feature label as a feature label that appears in at least 1.0% of repositories. Based on our dataset, the general feature labels are distributed as follows: \n",
      "\n",
      "featureLabels\n",
      "Feature             239\n",
      "feature            1896\n",
      "feature-request     452\n",
      "feature_request      93\n",
      "kind/feature        350\n",
      "new-feature          47\n",
      "type/feature         49\n",
      "type:feature         76\n",
      "Name: repositoryName, dtype: int64 \n",
      "\n"
     ]
    },
    {
     "data": {
      "image/png": "[encoded data removed]",
      "text/plain": [
       "<Figure size 720x432 with 1 Axes>"
      ]
     },
     "metadata": {
      "needs_background": "light"
     },
     "output_type": "display_data"
    },
    {
     "name": "stdout",
     "output_type": "stream",
     "text": [
      "On the other hand, here are some of the repository-specific feature labels (i.e. those that appear in less than 1.0% of repositories) that can be found in our dataset: \n",
      "\n",
      "featureLabels\n",
      "#Feature                  1\n",
      "2-Feature                 1\n",
      ":Feature/Datastream       1\n",
      ":sparkles:Feature         1\n",
      ":star: top feature        1\n",
      ">feature                  2\n",
      "A-crate-features          1\n",
      "A-feature                 1\n",
      "A-features                1\n",
      "A:Feature                 1\n",
      "AG feature parity         1\n",
      "APPS/Features             1\n",
      "AppGw Feature Request     1\n",
      "B-feature-request         1\n",
      "B-missing feature         1\n",
      "C-feature                14\n",
      "C-feature-accepted        2\n",
      "C-feature-compat          1\n",
      "C-feature-request        13\n",
      "C1-feature                1\n",
      "Name: repositoryName, dtype: int64\n",
      "\n",
      "\n",
      "\n",
      "PS: 1.0% of repositories = 36 repositories\n"
     ]
    }
   ],
   "source": [
    "threshold_for_general_feature_labels = 0.01\n",
    "general_feature_labels = feature_counts[feature_counts >= (number_of_unique_repos*threshold_for_general_feature_labels)]\n",
    "repository_specific_feature_labels = feature_counts[feature_counts < (number_of_unique_repos*threshold_for_general_feature_labels)]\n",
    "\n",
    "print(f\"We define a general feature label as a feature label that appears in at least {threshold_for_general_feature_labels*100}% of repositories. Based on our dataset, the general feature labels are distributed as follows: \\n\")\n",
    "print(general_feature_labels, '\\n')\n",
    "show_general_feature_label_distribution(general_feature_labels)\n",
    "\n",
    "print(f\"On the other hand, here are some of the repository-specific feature labels (i.e. those that appear in less than {threshold_for_general_feature_labels*100}% of repositories) that can be found in our dataset: \\n\")\n",
    "print(repository_specific_feature_labels.head(20))\n",
    "\n",
    "print(f\"\\n\\n\\nPS: {threshold_for_general_feature_labels*100}% of repositories = {round(number_of_unique_repos*threshold_for_general_feature_labels)} repositories\")\n"
   ]
  },
  {
   "cell_type": "code",
   "execution_count": null,
   "id": "6cf5396f",
   "metadata": {},
   "outputs": [],
   "source": []
  }
 ],
 "metadata": {
  "kernelspec": {
   "display_name": "Python 3",
   "language": "python",
   "name": "python3"
  },
  "language_info": {
   "codemirror_mode": {
    "name": "ipython",
    "version": 3
   },
   "file_extension": ".py",
   "mimetype": "text/x-python",
   "name": "python",
   "nbconvert_exporter": "python",
   "pygments_lexer": "ipython3",
   "version": "3.9.1"
  }
 },
 "nbformat": 4,
 "nbformat_minor": 5
}
