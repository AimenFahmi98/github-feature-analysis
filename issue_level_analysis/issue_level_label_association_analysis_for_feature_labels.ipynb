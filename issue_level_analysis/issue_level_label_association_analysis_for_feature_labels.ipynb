{
 "cells": [
  {
   "cell_type": "markdown",
   "id": "849fd744",
   "metadata": {},
   "source": [
    "# <center> What is a Feature ? <br><br> Research Question: On the Issue Level, What Other Labels are Used in Conjunction with \"Feature Labels\" ?</center>"
   ]
  },
  {
   "cell_type": "markdown",
   "id": "bc35d1cc",
   "metadata": {},
   "source": [
    "### Glossary\n",
    "\n",
    "<b>Feature Label</b>: a label that contains the word \"feature\". <br>\n",
    "<b>Feature Issue</b>: an issue that has at least one <b>feature label</b>. <br>\n",
    "<b>Feature Issue Dataset</b>: a dataset containing a number of <b>feature issues</b>. Each feature issue is associated with the repository it comes from through the \"repository name\" column."
   ]
  },
  {
   "cell_type": "markdown",
   "id": "b4c837ae",
   "metadata": {},
   "source": [
    "### Importing Required Libraries"
   ]
  },
  {
   "cell_type": "code",
   "execution_count": 26,
   "id": "a223dcd9",
   "metadata": {},
   "outputs": [],
   "source": [
    "import pandas as pd\n",
    "import ast\n",
    "import plotly.io as pio\n",
    "pio.renderers.default = 'iframe_connected'\n",
    "import plotly.express as px\n",
    "import os\n",
    "import seaborn as sns\n",
    "import matplotlib.pyplot as plt"
   ]
  },
  {
   "cell_type": "markdown",
   "id": "4a3f6177",
   "metadata": {},
   "source": [
    "### Importing Appropriate DataSet"
   ]
  },
  {
   "cell_type": "code",
   "execution_count": 27,
   "id": "05c27225",
   "metadata": {
    "scrolled": false
   },
   "outputs": [
    {
     "name": "stdout",
     "output_type": "stream",
     "text": [
      "Full Shape: (265089, 15)\n"
     ]
    },
    {
     "data": {
      "text/html": [
       "<div>\n",
       "<style scoped>\n",
       "    .dataframe tbody tr th:only-of-type {\n",
       "        vertical-align: middle;\n",
       "    }\n",
       "\n",
       "    .dataframe tbody tr th {\n",
       "        vertical-align: top;\n",
       "    }\n",
       "\n",
       "    .dataframe thead th {\n",
       "        text-align: right;\n",
       "    }\n",
       "</style>\n",
       "<table border=\"1\" class=\"dataframe\">\n",
       "  <thead>\n",
       "    <tr style=\"text-align: right;\">\n",
       "      <th></th>\n",
       "      <th>repositoryName</th>\n",
       "      <th>issueTitle</th>\n",
       "      <th>issueBody</th>\n",
       "      <th>issueNumber</th>\n",
       "      <th>issueState</th>\n",
       "      <th>issueCreatedAt</th>\n",
       "      <th>issueUpdatedAt</th>\n",
       "      <th>issueClosedAt</th>\n",
       "      <th>issueUser</th>\n",
       "      <th>assignee</th>\n",
       "      <th>issueLabels</th>\n",
       "      <th>milestone</th>\n",
       "      <th>comments</th>\n",
       "      <th>commentsURL</th>\n",
       "      <th>feature_labels</th>\n",
       "    </tr>\n",
       "  </thead>\n",
       "  <tbody>\n",
       "    <tr>\n",
       "      <th>0</th>\n",
       "      <td>aws/aws-tools-for-powershell</td>\n",
       "      <td>Disable TLS Certificate Check</td>\n",
       "      <td>### Describe the feature\\n\\nIssue previously r...</td>\n",
       "      <td>334</td>\n",
       "      <td>open</td>\n",
       "      <td>2023-11-27 07:25:10+00:00</td>\n",
       "      <td>2023-12-08 18:20:22+00:00</td>\n",
       "      <td>NaN</td>\n",
       "      <td>BoneyAz</td>\n",
       "      <td>Not assigned</td>\n",
       "      <td>[feature-request, module/powershell-cmdlets, q...</td>\n",
       "      <td>No milestone</td>\n",
       "      <td>2</td>\n",
       "      <td>https://api.github.com/repos/aws/aws-tools-for...</td>\n",
       "      <td>[feature-request]</td>\n",
       "    </tr>\n",
       "    <tr>\n",
       "      <th>1</th>\n",
       "      <td>aws/aws-tools-for-powershell</td>\n",
       "      <td>Add support for IAM Identity Center (SSO) auth...</td>\n",
       "      <td>### Describe the feature\\r\\n\\r\\nImplement nati...</td>\n",
       "      <td>332</td>\n",
       "      <td>open</td>\n",
       "      <td>2023-08-18 18:04:46+00:00</td>\n",
       "      <td>2023-08-25 16:33:08+00:00</td>\n",
       "      <td>NaN</td>\n",
       "      <td>dbaileyut</td>\n",
       "      <td>Not assigned</td>\n",
       "      <td>[feature-request, module/powershell-cmdlets, p...</td>\n",
       "      <td>No milestone</td>\n",
       "      <td>2</td>\n",
       "      <td>https://api.github.com/repos/aws/aws-tools-for...</td>\n",
       "      <td>[feature-request]</td>\n",
       "    </tr>\n",
       "  </tbody>\n",
       "</table>\n",
       "</div>"
      ],
      "text/plain": [
       "                 repositoryName  \\\n",
       "0  aws/aws-tools-for-powershell   \n",
       "1  aws/aws-tools-for-powershell   \n",
       "\n",
       "                                          issueTitle  \\\n",
       "0                      Disable TLS Certificate Check   \n",
       "1  Add support for IAM Identity Center (SSO) auth...   \n",
       "\n",
       "                                           issueBody  issueNumber issueState  \\\n",
       "0  ### Describe the feature\\n\\nIssue previously r...          334       open   \n",
       "1  ### Describe the feature\\r\\n\\r\\nImplement nati...          332       open   \n",
       "\n",
       "              issueCreatedAt             issueUpdatedAt issueClosedAt  \\\n",
       "0  2023-11-27 07:25:10+00:00  2023-12-08 18:20:22+00:00           NaN   \n",
       "1  2023-08-18 18:04:46+00:00  2023-08-25 16:33:08+00:00           NaN   \n",
       "\n",
       "   issueUser      assignee                                        issueLabels  \\\n",
       "0    BoneyAz  Not assigned  [feature-request, module/powershell-cmdlets, q...   \n",
       "1  dbaileyut  Not assigned  [feature-request, module/powershell-cmdlets, p...   \n",
       "\n",
       "      milestone  comments                                        commentsURL  \\\n",
       "0  No milestone         2  https://api.github.com/repos/aws/aws-tools-for...   \n",
       "1  No milestone         2  https://api.github.com/repos/aws/aws-tools-for...   \n",
       "\n",
       "      feature_labels  \n",
       "0  [feature-request]  \n",
       "1  [feature-request]  "
      ]
     },
     "execution_count": 27,
     "metadata": {},
     "output_type": "execute_result"
    }
   ],
   "source": [
    "pd.set_option('display.max_columns', None)\n",
    "pd.set_option('display.max_colwidth', None)\n",
    "pd.set_option('display.max_rows', None)\n",
    "\n",
    "#pd.reset_option('max_columns')\n",
    "pd.reset_option('max_colwidth')\n",
    "pd.reset_option('max_rows')\n",
    "\n",
    "def combine_partial_datasets(folder_path):\n",
    "    # Get a list of all files in the specified folder\n",
    "    file_list = [f for f in os.listdir(folder_path) if f.endswith('.csv')]\n",
    "    dfs = []\n",
    "    for file in file_list:\n",
    "        file_path = os.path.join(folder_path, file)\n",
    "        df = pd.read_csv(file_path)\n",
    "        dfs.append(df)\n",
    "    combined_df = pd.concat(dfs, ignore_index=True)\n",
    "\n",
    "    return combined_df\n",
    "\n",
    "df = combine_partial_datasets('../../dataset/issues/partial_datasets/')\n",
    "\n",
    "# Converting string to actual python lists\n",
    "df['issueLabels'] = df['issueLabels'].apply(ast.literal_eval)\n",
    "\n",
    "# Adding a column for each issue containing only its 'feature labels'\n",
    "df.loc[:, 'feature_labels'] = df['issueLabels'].apply(lambda labels: [label for label in labels if \"feature\" in label.lower()])\n",
    "\n",
    "print('Full Shape:', df.shape)\n",
    "df.head(2)"
   ]
  },
  {
   "cell_type": "markdown",
   "id": "35f30549",
   "metadata": {},
   "source": [
    "### Group \"Feature Labels\" Together with their Associated Label and Count Association Occurrences"
   ]
  },
  {
   "cell_type": "code",
   "execution_count": 32,
   "id": "fc6b397e",
   "metadata": {},
   "outputs": [],
   "source": [
    "exploded_labels = df.explode('feature_labels').explode('issueLabels')\n",
    "\n",
    "exploded_labels.shape\n",
    "\n",
    "label_counts = exploded_labels.groupby(['feature_labels', 'issueLabels']).size().reset_index(name='count')\n",
    "\n",
    "label_counts_summary_sorted = label_counts.sort_values(by='count', ascending=False)\n",
    "\n",
    "label_counts_summary_sorted = label_counts_summary_sorted[label_counts_summary_sorted['count'] > 1300]\n",
    "label_counts_summary_sorted = label_counts_summary_sorted[label_counts_summary_sorted['feature_labels'] != label_counts_summary_sorted['issueLabels']]"
   ]
  },
  {
   "cell_type": "code",
   "execution_count": 33,
   "id": "55b81535",
   "metadata": {
    "scrolled": true
   },
   "outputs": [
    {
     "data": {
      "text/html": [
       "<div>\n",
       "<style scoped>\n",
       "    .dataframe tbody tr th:only-of-type {\n",
       "        vertical-align: middle;\n",
       "    }\n",
       "\n",
       "    .dataframe tbody tr th {\n",
       "        vertical-align: top;\n",
       "    }\n",
       "\n",
       "    .dataframe thead th {\n",
       "        text-align: right;\n",
       "    }\n",
       "</style>\n",
       "<table border=\"1\" class=\"dataframe\">\n",
       "  <thead>\n",
       "    <tr style=\"text-align: right;\">\n",
       "      <th></th>\n",
       "      <th>feature_labels</th>\n",
       "      <th>issueLabels</th>\n",
       "      <th>count</th>\n",
       "    </tr>\n",
       "  </thead>\n",
       "  <tbody>\n",
       "    <tr>\n",
       "      <th>8687</th>\n",
       "      <td>feature</td>\n",
       "      <td>good first issue</td>\n",
       "      <td>3274</td>\n",
       "    </tr>\n",
       "    <tr>\n",
       "      <th>8432</th>\n",
       "      <td>feature</td>\n",
       "      <td>enhancement</td>\n",
       "      <td>3271</td>\n",
       "    </tr>\n",
       "    <tr>\n",
       "      <th>8770</th>\n",
       "      <td>feature</td>\n",
       "      <td>help wanted</td>\n",
       "      <td>2854</td>\n",
       "    </tr>\n",
       "    <tr>\n",
       "      <th>26805</th>\n",
       "      <td>kind/feature</td>\n",
       "      <td>lifecycle/rotten</td>\n",
       "      <td>2709</td>\n",
       "    </tr>\n",
       "    <tr>\n",
       "      <th>27665</th>\n",
       "      <td>kind/feature</td>\n",
       "      <td>triage/accepted</td>\n",
       "      <td>2667</td>\n",
       "    </tr>\n",
       "  </tbody>\n",
       "</table>\n",
       "</div>"
      ],
      "text/plain": [
       "      feature_labels       issueLabels  count\n",
       "8687         feature  good first issue   3274\n",
       "8432         feature       enhancement   3271\n",
       "8770         feature       help wanted   2854\n",
       "26805   kind/feature  lifecycle/rotten   2709\n",
       "27665   kind/feature   triage/accepted   2667"
      ]
     },
     "execution_count": 33,
     "metadata": {},
     "output_type": "execute_result"
    }
   ],
   "source": [
    "label_counts_summary_sorted.head()"
   ]
  },
  {
   "cell_type": "markdown",
   "id": "3ea037d0",
   "metadata": {},
   "source": [
    "### Plot Results"
   ]
  },
  {
   "cell_type": "code",
   "execution_count": 34,
   "id": "7429ba92",
   "metadata": {
    "scrolled": false
   },
   "outputs": [
    {
     "data": {
      "text/html": [
       "<iframe\n",
       "    scrolling=\"no\"\n",
       "    width=\"100%\"\n",
       "    height=\"545px\"\n",
       "    src=\"iframe_figures/figure_27.html\"\n",
       "    frameborder=\"0\"\n",
       "    allowfullscreen\n",
       "></iframe>\n"
      ]
     },
     "metadata": {},
     "output_type": "display_data"
    }
   ],
   "source": [
    "fig = px.bar(\n",
    "    label_counts_summary_sorted,\n",
    "    x='feature_labels', y='count', color='issueLabels',\n",
    "    labels={'feature_labels': 'Feature Label', 'count': 'Count', 'issueLabels': 'Issue Label'},\n",
    "    title='Distribution of Labels for \"Feature Labels\" on the Issue Level',\n",
    ")\n",
    "\n",
    "fig.update_layout(\n",
    "    xaxis=dict(tickangle=45, tickmode='array'),\n",
    "    legend_title_text='issueLabels',\n",
    ")\n",
    "\n",
    "fig.show()"
   ]
  },
  {
   "cell_type": "code",
   "execution_count": 31,
   "id": "3aae9aed",
   "metadata": {},
   "outputs": [
    {
     "data": {
      "image/png": "[encoded data removed]",
      "text/plain": [
       "<Figure size 1008x576 with 1 Axes>"
      ]
     },
     "metadata": {},
     "output_type": "display_data"
    }
   ],
   "source": [
    "plt.figure(figsize=(14, 8))\n",
    "sns.barplot(x='feature_labels', y='count', hue='issueLabels', data=label_counts_summary_sorted)\n",
    "plt.xlabel('Feature Labels')\n",
    "plt.ylabel('Count')\n",
    "plt.title('Distribution of Labels for \"Feature Labels\" on the Feature-Issue Level')\n",
    "plt.xticks(rotation=45, ha='right')  # Rotate x-axis labels for better readability\n",
    "plt.legend(title='Labels', title_fontsize='12')\n",
    "plt.show()"
   ]
  }
 ],
 "metadata": {
  "kernelspec": {
   "display_name": "Python 3",
   "language": "python",
   "name": "python3"
  },
  "language_info": {
   "codemirror_mode": {
    "name": "ipython",
    "version": 3
   },
   "file_extension": ".py",
   "mimetype": "text/x-python",
   "name": "python",
   "nbconvert_exporter": "python",
   "pygments_lexer": "ipython3",
   "version": "3.9.1"
  }
 },
 "nbformat": 4,
 "nbformat_minor": 5
}
